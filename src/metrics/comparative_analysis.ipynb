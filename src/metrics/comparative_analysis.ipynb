{
 "cells": [
  {
   "cell_type": "markdown",
   "metadata": {},
   "source": [
    "#### Imports"
   ]
  },
  {
   "cell_type": "code",
   "execution_count": 1,
   "metadata": {},
   "outputs": [],
   "source": [
    "import matplotlib.pyplot as plt\n",
    "import pandas as pd\n",
    "import numpy as np"
   ]
  },
  {
   "cell_type": "markdown",
   "metadata": {},
   "source": [
    "#### Read data"
   ]
  },
  {
   "cell_type": "code",
   "execution_count": 2,
   "metadata": {},
   "outputs": [
    {
     "data": {
      "text/html": [
       "<div>\n",
       "<style scoped>\n",
       "    .dataframe tbody tr th:only-of-type {\n",
       "        vertical-align: middle;\n",
       "    }\n",
       "\n",
       "    .dataframe tbody tr th {\n",
       "        vertical-align: top;\n",
       "    }\n",
       "\n",
       "    .dataframe thead th {\n",
       "        text-align: right;\n",
       "    }\n",
       "</style>\n",
       "<table border=\"1\" class=\"dataframe\">\n",
       "  <thead>\n",
       "    <tr style=\"text-align: right;\">\n",
       "      <th></th>\n",
       "      <th>query</th>\n",
       "      <th>label</th>\n",
       "      <th>rank</th>\n",
       "    </tr>\n",
       "  </thead>\n",
       "  <tbody>\n",
       "    <tr>\n",
       "      <th>0</th>\n",
       "      <td>ACI Worldwide, Inc. Sustainability Report 2023...</td>\n",
       "      <td>0.0</td>\n",
       "      <td>1</td>\n",
       "    </tr>\n",
       "    <tr>\n",
       "      <th>1</th>\n",
       "      <td>ACI Worldwide, Inc. Sustainability Report 2023...</td>\n",
       "      <td>1.0</td>\n",
       "      <td>2</td>\n",
       "    </tr>\n",
       "    <tr>\n",
       "      <th>2</th>\n",
       "      <td>ACI Worldwide, Inc. Sustainability Report 2023...</td>\n",
       "      <td>0.0</td>\n",
       "      <td>3</td>\n",
       "    </tr>\n",
       "    <tr>\n",
       "      <th>3</th>\n",
       "      <td>ACI Worldwide, Inc. Sustainability Report 2023...</td>\n",
       "      <td>0.0</td>\n",
       "      <td>4</td>\n",
       "    </tr>\n",
       "    <tr>\n",
       "      <th>4</th>\n",
       "      <td>ACI Worldwide, Inc. Sustainability Report 2023...</td>\n",
       "      <td>0.0</td>\n",
       "      <td>5</td>\n",
       "    </tr>\n",
       "  </tbody>\n",
       "</table>\n",
       "</div>"
      ],
      "text/plain": [
       "                                               query  label  rank\n",
       "0  ACI Worldwide, Inc. Sustainability Report 2023...    0.0     1\n",
       "1  ACI Worldwide, Inc. Sustainability Report 2023...    1.0     2\n",
       "2  ACI Worldwide, Inc. Sustainability Report 2023...    0.0     3\n",
       "3  ACI Worldwide, Inc. Sustainability Report 2023...    0.0     4\n",
       "4  ACI Worldwide, Inc. Sustainability Report 2023...    0.0     5"
      ]
     },
     "execution_count": 2,
     "metadata": {},
     "output_type": "execute_result"
    }
   ],
   "source": [
    "df = pd.read_csv('./../../data/vais_labeled.csv')\n",
    "df.head()"
   ]
  },
  {
   "cell_type": "code",
   "execution_count": 3,
   "metadata": {},
   "outputs": [
    {
     "data": {
      "text/plain": [
       "query    1000\n",
       "label    1000\n",
       "rank     1000\n",
       "dtype: int64"
      ]
     },
     "execution_count": 3,
     "metadata": {},
     "output_type": "execute_result"
    }
   ],
   "source": [
    "df.count()"
   ]
  },
  {
   "cell_type": "markdown",
   "metadata": {},
   "source": [
    "#### Compute Precision@k"
   ]
  },
  {
   "cell_type": "code",
   "execution_count": 4,
   "metadata": {},
   "outputs": [],
   "source": [
    "def precision_at_k(labels, k):\n",
    "    return sum(labels[:k]) / k"
   ]
  },
  {
   "cell_type": "markdown",
   "metadata": {},
   "source": [
    "Initialize dictionaries to store the precision at k for each query"
   ]
  },
  {
   "cell_type": "code",
   "execution_count": 5,
   "metadata": {},
   "outputs": [],
   "source": [
    "precision_at_1 = {}\n",
    "precision_at_3 = {}\n",
    "precision_at_5 = {}\n",
    "precision_at_10 = {}"
   ]
  },
  {
   "cell_type": "markdown",
   "metadata": {},
   "source": [
    "Group by query and calculate precision at k for each group"
   ]
  },
  {
   "cell_type": "code",
   "execution_count": 6,
   "metadata": {},
   "outputs": [],
   "source": [
    "for query, group in df.groupby('query'):\n",
    "    labels = group.sort_values(by='rank')['label'].values\n",
    "    precision_at_1[query] = precision_at_k(labels, 1)\n",
    "    precision_at_3[query] = precision_at_k(labels, 3)\n",
    "    precision_at_5[query] = precision_at_k(labels, 5)\n",
    "    precision_at_10[query] = precision_at_k(labels, 10)"
   ]
  },
  {
   "cell_type": "markdown",
   "metadata": {},
   "source": [
    "Calculate the mean precision at k"
   ]
  },
  {
   "cell_type": "code",
   "execution_count": 7,
   "metadata": {},
   "outputs": [],
   "source": [
    "mean_precision_at_1 = sum(precision_at_1.values()) / len(precision_at_1)\n",
    "mean_precision_at_3 = sum(precision_at_3.values()) / len(precision_at_3)\n",
    "mean_precision_at_5 = sum(precision_at_5.values()) / len(precision_at_5)\n",
    "mean_precision_at_10 = sum(precision_at_10.values()) / len(precision_at_10)"
   ]
  },
  {
   "cell_type": "markdown",
   "metadata": {},
   "source": [
    "Compile the results into a DataFrame for display"
   ]
  },
  {
   "cell_type": "code",
   "execution_count": 8,
   "metadata": {},
   "outputs": [],
   "source": [
    "\n",
    "scores = pd.DataFrame({\n",
    "    'Precision@1': [mean_precision_at_1],\n",
    "    'Precision@3': [mean_precision_at_3],\n",
    "    'Precision@5': [mean_precision_at_5],\n",
    "    'Precision@10': [mean_precision_at_10]\n",
    "})"
   ]
  },
  {
   "cell_type": "code",
   "execution_count": 9,
   "metadata": {},
   "outputs": [
    {
     "data": {
      "text/html": [
       "<div>\n",
       "<style scoped>\n",
       "    .dataframe tbody tr th:only-of-type {\n",
       "        vertical-align: middle;\n",
       "    }\n",
       "\n",
       "    .dataframe tbody tr th {\n",
       "        vertical-align: top;\n",
       "    }\n",
       "\n",
       "    .dataframe thead th {\n",
       "        text-align: right;\n",
       "    }\n",
       "</style>\n",
       "<table border=\"1\" class=\"dataframe\">\n",
       "  <thead>\n",
       "    <tr style=\"text-align: right;\">\n",
       "      <th></th>\n",
       "      <th>Precision@1</th>\n",
       "      <th>Precision@3</th>\n",
       "      <th>Precision@5</th>\n",
       "      <th>Precision@10</th>\n",
       "    </tr>\n",
       "  </thead>\n",
       "  <tbody>\n",
       "    <tr>\n",
       "      <th>0</th>\n",
       "      <td>0.1</td>\n",
       "      <td>0.06</td>\n",
       "      <td>0.046</td>\n",
       "      <td>0.05</td>\n",
       "    </tr>\n",
       "  </tbody>\n",
       "</table>\n",
       "</div>"
      ],
      "text/plain": [
       "   Precision@1  Precision@3  Precision@5  Precision@10\n",
       "0          0.1         0.06        0.046          0.05"
      ]
     },
     "execution_count": 9,
     "metadata": {},
     "output_type": "execute_result"
    }
   ],
   "source": [
    "scores "
   ]
  },
  {
   "cell_type": "markdown",
   "metadata": {},
   "source": [
    "#### Compute NDCG@k"
   ]
  },
  {
   "cell_type": "code",
   "execution_count": 10,
   "metadata": {},
   "outputs": [],
   "source": [
    "def dcg_at_k(labels, k):\n",
    "    return sum((2**labels[:k] - 1) / np.log2(np.arange(1, k + 1) + 1))"
   ]
  },
  {
   "cell_type": "code",
   "execution_count": 11,
   "metadata": {},
   "outputs": [],
   "source": [
    "def idcg_at_k(labels, k):\n",
    "    ideal_labels = sorted(labels, reverse=True)\n",
    "    ideal_labels = np.array(ideal_labels)\n",
    "    return dcg_at_k(ideal_labels, k)"
   ]
  },
  {
   "cell_type": "markdown",
   "metadata": {},
   "source": [
    "Initialize dictionaries to store the nDCG at k for each query"
   ]
  },
  {
   "cell_type": "code",
   "execution_count": 12,
   "metadata": {},
   "outputs": [],
   "source": [
    "ndcg_at_1 = {}\n",
    "ndcg_at_3 = {}\n",
    "ndcg_at_5 = {}\n",
    "ndcg_at_10 = {}"
   ]
  },
  {
   "cell_type": "markdown",
   "metadata": {},
   "source": [
    "Group by query and calculate nDCG at k for each group"
   ]
  },
  {
   "cell_type": "code",
   "execution_count": 13,
   "metadata": {},
   "outputs": [],
   "source": [
    "for query, group in df.groupby('query'):\n",
    "    labels = group.sort_values(by='rank')['label'].values\n",
    "    dcg_1 = dcg_at_k(labels, 1)\n",
    "    dcg_3 = dcg_at_k(labels, 3)\n",
    "    dcg_5 = dcg_at_k(labels, 5)\n",
    "    dcg_10 = dcg_at_k(labels, 10)\n",
    "    \n",
    "    idcg_1 = idcg_at_k(labels, 1)\n",
    "    idcg_3 = idcg_at_k(labels, 3)\n",
    "    idcg_5 = idcg_at_k(labels, 5)\n",
    "    idcg_10 = idcg_at_k(labels, 10)\n",
    "    \n",
    "    ndcg_at_1[query] = dcg_1 / idcg_1 if idcg_1 > 0 else 0\n",
    "    ndcg_at_3[query] = dcg_3 / idcg_3 if idcg_3 > 0 else 0\n",
    "    ndcg_at_5[query] = dcg_5 / idcg_5 if idcg_5 > 0 else 0\n",
    "    ndcg_at_10[query] = dcg_10 / idcg_10 if idcg_10 > 0 else 0"
   ]
  },
  {
   "cell_type": "markdown",
   "metadata": {},
   "source": [
    "Calculate the mean nDCG at k"
   ]
  },
  {
   "cell_type": "code",
   "execution_count": 14,
   "metadata": {},
   "outputs": [
    {
     "data": {
      "text/html": [
       "<div>\n",
       "<style scoped>\n",
       "    .dataframe tbody tr th:only-of-type {\n",
       "        vertical-align: middle;\n",
       "    }\n",
       "\n",
       "    .dataframe tbody tr th {\n",
       "        vertical-align: top;\n",
       "    }\n",
       "\n",
       "    .dataframe thead th {\n",
       "        text-align: right;\n",
       "    }\n",
       "</style>\n",
       "<table border=\"1\" class=\"dataframe\">\n",
       "  <thead>\n",
       "    <tr style=\"text-align: right;\">\n",
       "      <th></th>\n",
       "      <th>nDCG@1</th>\n",
       "      <th>nDCG@3</th>\n",
       "      <th>nDCG@5</th>\n",
       "      <th>nDCG@10</th>\n",
       "    </tr>\n",
       "  </thead>\n",
       "  <tbody>\n",
       "    <tr>\n",
       "      <th>0</th>\n",
       "      <td>0.1</td>\n",
       "      <td>0.140119</td>\n",
       "      <td>0.158841</td>\n",
       "      <td>0.228136</td>\n",
       "    </tr>\n",
       "  </tbody>\n",
       "</table>\n",
       "</div>"
      ],
      "text/plain": [
       "   nDCG@1    nDCG@3    nDCG@5   nDCG@10\n",
       "0     0.1  0.140119  0.158841  0.228136"
      ]
     },
     "execution_count": 14,
     "metadata": {},
     "output_type": "execute_result"
    }
   ],
   "source": [
    "mean_ndcg_at_1 = sum(ndcg_at_1.values()) / len(ndcg_at_1)\n",
    "mean_ndcg_at_3 = sum(ndcg_at_3.values()) / len(ndcg_at_3)\n",
    "mean_ndcg_at_5 = sum(ndcg_at_5.values()) / len(ndcg_at_5)\n",
    "mean_ndcg_at_10 = sum(ndcg_at_10.values()) / len(ndcg_at_10)\n",
    "\n",
    "scores = pd.DataFrame({\n",
    "    'nDCG@1': [mean_ndcg_at_1],\n",
    "    'nDCG@3': [mean_ndcg_at_3],\n",
    "    'nDCG@5': [mean_ndcg_at_5],\n",
    "    'nDCG@10': [mean_ndcg_at_10]\n",
    "})\n",
    "\n",
    "scores"
   ]
  },
  {
   "cell_type": "markdown",
   "metadata": {},
   "source": [
    "#### Compute MRR"
   ]
  },
  {
   "cell_type": "code",
   "execution_count": 15,
   "metadata": {},
   "outputs": [],
   "source": [
    "reciprocal_ranks = []"
   ]
  },
  {
   "cell_type": "markdown",
   "metadata": {},
   "source": [
    "Group by query and calculate the reciprocal rank for each group"
   ]
  },
  {
   "cell_type": "code",
   "execution_count": 16,
   "metadata": {},
   "outputs": [],
   "source": [
    "for query, group in df.groupby('query'):\n",
    "    group_sorted = group.sort_values(by='rank')\n",
    "    first_relevant = group_sorted[group_sorted['label'] == 1].head(1)\n",
    "    \n",
    "    if not first_relevant.empty:\n",
    "        rank = first_relevant['rank'].values[0]\n",
    "        reciprocal_ranks.append(1 / rank)"
   ]
  },
  {
   "cell_type": "markdown",
   "metadata": {},
   "source": [
    "Calculate the Mean Reciprocal Rank (MRR)"
   ]
  },
  {
   "cell_type": "code",
   "execution_count": 17,
   "metadata": {},
   "outputs": [
    {
     "data": {
      "text/html": [
       "<div>\n",
       "<style scoped>\n",
       "    .dataframe tbody tr th:only-of-type {\n",
       "        vertical-align: middle;\n",
       "    }\n",
       "\n",
       "    .dataframe tbody tr th {\n",
       "        vertical-align: top;\n",
       "    }\n",
       "\n",
       "    .dataframe thead th {\n",
       "        text-align: right;\n",
       "    }\n",
       "</style>\n",
       "<table border=\"1\" class=\"dataframe\">\n",
       "  <thead>\n",
       "    <tr style=\"text-align: right;\">\n",
       "      <th></th>\n",
       "      <th>MRR</th>\n",
       "    </tr>\n",
       "  </thead>\n",
       "  <tbody>\n",
       "    <tr>\n",
       "      <th>0</th>\n",
       "      <td>0.408759</td>\n",
       "    </tr>\n",
       "  </tbody>\n",
       "</table>\n",
       "</div>"
      ],
      "text/plain": [
       "        MRR\n",
       "0  0.408759"
      ]
     },
     "execution_count": 17,
     "metadata": {},
     "output_type": "execute_result"
    }
   ],
   "source": [
    "mrr = sum(reciprocal_ranks) / len(reciprocal_ranks)\n",
    "pd.DataFrame({'MRR': [mrr]})"
   ]
  },
  {
   "cell_type": "markdown",
   "metadata": {},
   "source": [
    "#### Compute MAP"
   ]
  },
  {
   "cell_type": "code",
   "execution_count": 18,
   "metadata": {},
   "outputs": [],
   "source": [
    "def average_precision(labels):\n",
    "    precisions = []\n",
    "    num_relevant = 0\n",
    "    for i, label in enumerate(labels):\n",
    "        if label == 1:\n",
    "            num_relevant += 1\n",
    "            precisions.append(num_relevant / (i + 1))\n",
    "    return sum(precisions) / num_relevant if num_relevant > 0 else 0"
   ]
  },
  {
   "cell_type": "code",
   "execution_count": 19,
   "metadata": {},
   "outputs": [],
   "source": [
    "average_precisions = []"
   ]
  },
  {
   "cell_type": "markdown",
   "metadata": {},
   "source": [
    "Group by query and calculate the average precision for each group"
   ]
  },
  {
   "cell_type": "code",
   "execution_count": 20,
   "metadata": {},
   "outputs": [],
   "source": [
    "for query, group in df.groupby('query'):\n",
    "    labels = group.sort_values(by='rank')['label'].values\n",
    "    average_precisions.append(average_precision(labels))"
   ]
  },
  {
   "cell_type": "markdown",
   "metadata": {},
   "source": [
    "Calculate the Mean Average Precision (MAP)"
   ]
  },
  {
   "cell_type": "code",
   "execution_count": 21,
   "metadata": {},
   "outputs": [
    {
     "data": {
      "text/html": [
       "<div>\n",
       "<style scoped>\n",
       "    .dataframe tbody tr th:only-of-type {\n",
       "        vertical-align: middle;\n",
       "    }\n",
       "\n",
       "    .dataframe tbody tr th {\n",
       "        vertical-align: top;\n",
       "    }\n",
       "\n",
       "    .dataframe thead th {\n",
       "        text-align: right;\n",
       "    }\n",
       "</style>\n",
       "<table border=\"1\" class=\"dataframe\">\n",
       "  <thead>\n",
       "    <tr style=\"text-align: right;\">\n",
       "      <th></th>\n",
       "      <th>MAP</th>\n",
       "    </tr>\n",
       "  </thead>\n",
       "  <tbody>\n",
       "    <tr>\n",
       "      <th>0</th>\n",
       "      <td>0.167413</td>\n",
       "    </tr>\n",
       "  </tbody>\n",
       "</table>\n",
       "</div>"
      ],
      "text/plain": [
       "        MAP\n",
       "0  0.167413"
      ]
     },
     "execution_count": 21,
     "metadata": {},
     "output_type": "execute_result"
    }
   ],
   "source": [
    "map_score = sum(average_precisions) / len(average_precisions)\n",
    "pd.DataFrame({'MAP': [map_score]})"
   ]
  },
  {
   "cell_type": "markdown",
   "metadata": {},
   "source": [
    "#### Visualize Results"
   ]
  },
  {
   "cell_type": "code",
   "execution_count": 22,
   "metadata": {},
   "outputs": [],
   "source": [
    "# Data\n",
    "metrics = ['Precision @1', 'Precision @3', 'Precision @5', 'Precision @10',\n",
    "           'NDCG @1', 'NDCG @3', 'NDCG @5', 'NDCG @10', 'MRR', 'MAP']\n",
    "\n",
    "vais_scores = [0.1, 0.06, 0.046, 0.05, 0.1, 0.140119, 0.158841, 0.228136, 0.408759, 0.167413]\n",
    "serp_scores = [0.05, 0.043333, 0.052, 0.053, 0.05, 0.07934, 0.129856, 0.19849, 0.317063, 0.128952]\n"
   ]
  },
  {
   "cell_type": "code",
   "execution_count": 23,
   "metadata": {},
   "outputs": [
    {
     "data": {
      "image/png": "[encoded data removed]",
      "text/plain": [
       "<Figure size 1200x800 with 1 Axes>"
      ]
     },
     "metadata": {},
     "output_type": "display_data"
    }
   ],
   "source": [
    "# Plotting\n",
    "fig, ax = plt.subplots(figsize=(12, 8))\n",
    "x = range(len(metrics))\n",
    "ax.bar(x, vais_scores, width=0.35, label='Vertex AI Search', align='center')\n",
    "ax.bar([p + 0.35 for p in x], serp_scores, width=0.35, label='SerpHouse', align='center')\n",
    "ax.set_ylabel('Scores')\n",
    "ax.set_title('Comparison of Search System Metrics')\n",
    "ax.set_xticks([p + 0.17 for p in x])\n",
    "ax.set_xticklabels(metrics, rotation=45)\n",
    "ax.legend()\n",
    "\n",
    "plt.tight_layout()\n",
    "plt.show()"
   ]
  },
  {
   "cell_type": "code",
   "execution_count": null,
   "metadata": {},
   "outputs": [],
   "source": []
  }
 ],
 "metadata": {
  "kernelspec": {
   "display_name": ".vais-serphouse-eval",
   "language": "python",
   "name": "python3"
  },
  "language_info": {
   "codemirror_mode": {
    "name": "ipython",
    "version": 3
   },
   "file_extension": ".py",
   "mimetype": "text/x-python",
   "name": "python",
   "nbconvert_exporter": "python",
   "pygments_lexer": "ipython3",
   "version": "3.11.6"
  }
 },
 "nbformat": 4,
 "nbformat_minor": 2
}
